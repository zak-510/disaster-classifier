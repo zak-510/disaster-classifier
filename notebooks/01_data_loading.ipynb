{
  "cells": [
    {
      "cell_type": "code",
      "execution_count": null,
      "metadata": {
        "vscode": {
          "languageId": "plaintext"
        }
      },
      "outputs": [],
      "source": [
        "# xBD Pipeline: Data Loading and Augmentation\n",
        "\n",
        "This notebook demonstrates how to:\n",
        "1. Load and preprocess xBD dataset images\n",
        "2. Apply data augmentation\n",
        "3. Visualize the results\n"
      ]
    },
    {
      "cell_type": "code",
      "execution_count": null,
      "metadata": {},
      "outputs": [],
      "source": [
        "import sys\n",
        "sys.path.append('..')\n",
        "\n",
        "import numpy as np\n",
        "import matplotlib.pyplot as plt\n",
        "from pathlib import Path\n",
        "from src.utils.transforms import normalize_image, augment_image_mask, resize_image_mask\n",
        "from src.data.dataset import XBDDataset\n"
      ]
    },
    {
      "cell_type": "code",
      "execution_count": null,
      "metadata": {},
      "outputs": [],
      "source": [
        "## 1. Load Dataset\n"
      ]
    },
    {
      "cell_type": "code",
      "execution_count": null,
      "metadata": {},
      "outputs": [],
      "source": [
        "# Initialize dataset\n",
        "data_dir = Path('../Data/train')\n",
        "dataset = XBDDataset(\n",
        "    data_dir=data_dir,\n",
        "    image_size=(512, 512),\n",
        "    augment=False\n",
        ")\n",
        "\n",
        "print(f'Dataset size: {len(dataset)}')\n"
      ]
    },
    {
      "cell_type": "code",
      "execution_count": null,
      "metadata": {},
      "outputs": [],
      "source": [
        "## 2. Visualize Sample Images\n"
      ]
    },
    {
      "cell_type": "code",
      "execution_count": null,
      "metadata": {},
      "outputs": [],
      "source": [
        "def plot_sample(image, mask, title):\n",
        "    fig, (ax1, ax2) = plt.subplots(1, 2, figsize=(12, 6))\n",
        "    \n",
        "    ax1.imshow(image)\n",
        "    ax1.set_title('Image')\n",
        "    ax1.axis('off')\n",
        "    \n",
        "    ax2.imshow(mask, cmap='gray')\n",
        "    ax2.set_title('Mask')\n",
        "    ax2.axis('off')\n",
        "    \n",
        "    plt.suptitle(title)\n",
        "    plt.show()\n",
        "\n",
        "# Get a sample\n",
        "image, mask = dataset[0]\n",
        "plot_sample(image.numpy().transpose(1, 2, 0), mask.numpy().squeeze(), 'Original Sample')\n"
      ]
    },
    {
      "cell_type": "code",
      "execution_count": null,
      "metadata": {},
      "outputs": [],
      "source": [
        "## 3. Data Augmentation Examples\n"
      ]
    },
    {
      "cell_type": "code",
      "execution_count": null,
      "metadata": {},
      "outputs": [],
      "source": [
        "# Convert tensors back to numpy for augmentation\n",
        "image_np = image.numpy().transpose(1, 2, 0)\n",
        "mask_np = mask.numpy().squeeze()\n",
        "\n",
        "# Apply different augmentations\n",
        "augmentations = [\n",
        "    {'do_flip': True, 'do_rotate': False},\n",
        "    {'do_flip': False, 'do_rotate': True},\n",
        "    {'do_flip': True, 'do_rotate': True}\n",
        "]\n",
        "\n",
        "for i, aug_params in enumerate(augmentations):\n",
        "    aug_img, aug_mask = augment_image_mask(image_np, mask_np, **aug_params)\n",
        "    plot_sample(aug_img, aug_mask, f'Augmentation {i+1}')\n"
      ]
    },
    {
      "cell_type": "code",
      "execution_count": null,
      "metadata": {},
      "outputs": [],
      "source": [
        "## 4. Batch Loading Example\n"
      ]
    },
    {
      "cell_type": "code",
      "execution_count": null,
      "metadata": {},
      "outputs": [],
      "source": [
        "from torch.utils.data import DataLoader\n",
        "\n",
        "# Create dataloader\n",
        "dataloader = DataLoader(\n",
        "    dataset,\n",
        "    batch_size=4,\n",
        "    shuffle=True,\n",
        "    num_workers=0\n",
        ")\n",
        "\n",
        "# Get a batch\n",
        "images, masks = next(iter(dataloader))\n",
        "\n",
        "# Plot batch\n",
        "fig, axes = plt.subplots(4, 2, figsize=(12, 24))\n",
        "for i in range(4):\n",
        "    axes[i, 0].imshow(images[i].numpy().transpose(1, 2, 0))\n",
        "    axes[i, 0].set_title(f'Image {i+1}')\n",
        "    axes[i, 0].axis('off')\n",
        "    \n",
        "    axes[i, 1].imshow(masks[i].numpy().squeeze(), cmap='gray')\n",
        "    axes[i, 1].set_title(f'Mask {i+1}')\n",
        "    axes[i, 1].axis('off')\n",
        "\n",
        "plt.tight_layout()\n",
        "plt.show()\n"
      ]
    }
  ],
  "metadata": {
    "language_info": {
      "name": "python"
    }
  },
  "nbformat": 4,
  "nbformat_minor": 2
}
